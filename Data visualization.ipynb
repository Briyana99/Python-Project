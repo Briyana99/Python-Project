{
 "cells": [
  {
   "cell_type": "markdown",
   "id": "ae504202",
   "metadata": {},
   "source": [
    "## DATA VISUALIZATION"
   ]
  },
  {
   "cell_type": "code",
   "execution_count": 1,
   "id": "3c27d5f3",
   "metadata": {},
   "outputs": [],
   "source": [
    "import sqlite3\n",
    "import pandas as pd\n",
    "import matplotlib.pyplot as plt\n",
    "import seaborn as sns\n",
    "import numpy as np"
   ]
  },
  {
   "cell_type": "code",
   "execution_count": 2,
   "id": "a380bc49",
   "metadata": {},
   "outputs": [],
   "source": [
    "def create_connection(db_file, delete_db=False):\n",
    "    import os\n",
    "    if delete_db and os.path.exists(db_file):\n",
    "        os.remove(db_file)\n",
    "\n",
    "    conn = None\n",
    "    try:\n",
    "        conn = sqlite3.connect(db_file)\n",
    "        conn.execute(\"PRAGMA foreign_keys = 1\")\n",
    "    except Error as e:\n",
    "        print(e)\n",
    "\n",
    "    return conn\n",
    "\n",
    "\n",
    "def execute_many_sql_statement(sql_statement, conn, values):\n",
    "    cur = conn.cursor()\n",
    "\n",
    "    cur.executemany(sql_statement, values)\n",
    "\n",
    "    rows = cur.fetchall()\n",
    "\n",
    "    return rows\n"
   ]
  },
  {
   "cell_type": "code",
   "execution_count": 3,
   "id": "b4eec07f",
   "metadata": {},
   "outputs": [
    {
     "data": {
      "text/html": [
       "<div>\n",
       "<style scoped>\n",
       "    .dataframe tbody tr th:only-of-type {\n",
       "        vertical-align: middle;\n",
       "    }\n",
       "\n",
       "    .dataframe tbody tr th {\n",
       "        vertical-align: top;\n",
       "    }\n",
       "\n",
       "    .dataframe thead th {\n",
       "        text-align: right;\n",
       "    }\n",
       "</style>\n",
       "<table border=\"1\" class=\"dataframe\">\n",
       "  <thead>\n",
       "    <tr style=\"text-align: right;\">\n",
       "      <th></th>\n",
       "      <th>accident_index</th>\n",
       "      <th>accident_year</th>\n",
       "      <th>accident_reference</th>\n",
       "      <th>longitude</th>\n",
       "      <th>latitude</th>\n",
       "      <th>accident_severity</th>\n",
       "      <th>number_of_vehicles</th>\n",
       "      <th>number_of_casualties</th>\n",
       "      <th>date</th>\n",
       "      <th>day_of_week</th>\n",
       "      <th>...</th>\n",
       "      <th>second_road_class</th>\n",
       "      <th>second_road_number</th>\n",
       "      <th>pedestrian_crossing_human_control</th>\n",
       "      <th>pedestrian_crossing_physical_facilities</th>\n",
       "      <th>light_conditions</th>\n",
       "      <th>weather_conditions</th>\n",
       "      <th>road_surface_conditions</th>\n",
       "      <th>special_conditions_at_site</th>\n",
       "      <th>carriageway_hazards</th>\n",
       "      <th>urban_or_rural_area</th>\n",
       "    </tr>\n",
       "  </thead>\n",
       "  <tbody>\n",
       "    <tr>\n",
       "      <th>0</th>\n",
       "      <td>1</td>\n",
       "      <td>2020</td>\n",
       "      <td>10219808</td>\n",
       "      <td>-0.254001</td>\n",
       "      <td>51.462262</td>\n",
       "      <td>3</td>\n",
       "      <td>1</td>\n",
       "      <td>1</td>\n",
       "      <td>4/2/2020</td>\n",
       "      <td>3</td>\n",
       "      <td>...</td>\n",
       "      <td>6</td>\n",
       "      <td>0</td>\n",
       "      <td>9</td>\n",
       "      <td>9</td>\n",
       "      <td>1</td>\n",
       "      <td>9</td>\n",
       "      <td>9</td>\n",
       "      <td>0</td>\n",
       "      <td>0</td>\n",
       "      <td>1</td>\n",
       "    </tr>\n",
       "    <tr>\n",
       "      <th>1</th>\n",
       "      <td>2</td>\n",
       "      <td>2020</td>\n",
       "      <td>10220496</td>\n",
       "      <td>-0.139253</td>\n",
       "      <td>51.470327</td>\n",
       "      <td>3</td>\n",
       "      <td>1</td>\n",
       "      <td>2</td>\n",
       "      <td>27/04/2020</td>\n",
       "      <td>2</td>\n",
       "      <td>...</td>\n",
       "      <td>6</td>\n",
       "      <td>0</td>\n",
       "      <td>0</td>\n",
       "      <td>4</td>\n",
       "      <td>1</td>\n",
       "      <td>1</td>\n",
       "      <td>1</td>\n",
       "      <td>0</td>\n",
       "      <td>0</td>\n",
       "      <td>1</td>\n",
       "    </tr>\n",
       "    <tr>\n",
       "      <th>2</th>\n",
       "      <td>3</td>\n",
       "      <td>2020</td>\n",
       "      <td>10228005</td>\n",
       "      <td>-0.178719</td>\n",
       "      <td>51.529614</td>\n",
       "      <td>3</td>\n",
       "      <td>1</td>\n",
       "      <td>1</td>\n",
       "      <td>1/1/2020</td>\n",
       "      <td>4</td>\n",
       "      <td>...</td>\n",
       "      <td>6</td>\n",
       "      <td>0</td>\n",
       "      <td>0</td>\n",
       "      <td>0</td>\n",
       "      <td>4</td>\n",
       "      <td>1</td>\n",
       "      <td>2</td>\n",
       "      <td>0</td>\n",
       "      <td>0</td>\n",
       "      <td>1</td>\n",
       "    </tr>\n",
       "    <tr>\n",
       "      <th>3</th>\n",
       "      <td>4</td>\n",
       "      <td>2020</td>\n",
       "      <td>10228006</td>\n",
       "      <td>-0.001683</td>\n",
       "      <td>51.541210</td>\n",
       "      <td>2</td>\n",
       "      <td>1</td>\n",
       "      <td>1</td>\n",
       "      <td>1/1/2020</td>\n",
       "      <td>4</td>\n",
       "      <td>...</td>\n",
       "      <td>6</td>\n",
       "      <td>0</td>\n",
       "      <td>0</td>\n",
       "      <td>4</td>\n",
       "      <td>4</td>\n",
       "      <td>1</td>\n",
       "      <td>1</td>\n",
       "      <td>0</td>\n",
       "      <td>0</td>\n",
       "      <td>1</td>\n",
       "    </tr>\n",
       "    <tr>\n",
       "      <th>4</th>\n",
       "      <td>5</td>\n",
       "      <td>2020</td>\n",
       "      <td>10228011</td>\n",
       "      <td>-0.137592</td>\n",
       "      <td>51.515704</td>\n",
       "      <td>3</td>\n",
       "      <td>1</td>\n",
       "      <td>2</td>\n",
       "      <td>1/1/2020</td>\n",
       "      <td>4</td>\n",
       "      <td>...</td>\n",
       "      <td>5</td>\n",
       "      <td>0</td>\n",
       "      <td>0</td>\n",
       "      <td>0</td>\n",
       "      <td>4</td>\n",
       "      <td>1</td>\n",
       "      <td>1</td>\n",
       "      <td>0</td>\n",
       "      <td>0</td>\n",
       "      <td>1</td>\n",
       "    </tr>\n",
       "  </tbody>\n",
       "</table>\n",
       "<p>5 rows × 27 columns</p>\n",
       "</div>"
      ],
      "text/plain": [
       "   accident_index  accident_year accident_reference  longitude   latitude  \\\n",
       "0               1           2020           10219808  -0.254001  51.462262   \n",
       "1               2           2020           10220496  -0.139253  51.470327   \n",
       "2               3           2020           10228005  -0.178719  51.529614   \n",
       "3               4           2020           10228006  -0.001683  51.541210   \n",
       "4               5           2020           10228011  -0.137592  51.515704   \n",
       "\n",
       "   accident_severity  number_of_vehicles  number_of_casualties        date  \\\n",
       "0                  3                   1                     1    4/2/2020   \n",
       "1                  3                   1                     2  27/04/2020   \n",
       "2                  3                   1                     1    1/1/2020   \n",
       "3                  2                   1                     1    1/1/2020   \n",
       "4                  3                   1                     2    1/1/2020   \n",
       "\n",
       "   day_of_week  ... second_road_class  second_road_number  \\\n",
       "0            3  ...                 6                   0   \n",
       "1            2  ...                 6                   0   \n",
       "2            4  ...                 6                   0   \n",
       "3            4  ...                 6                   0   \n",
       "4            4  ...                 5                   0   \n",
       "\n",
       "   pedestrian_crossing_human_control  pedestrian_crossing_physical_facilities  \\\n",
       "0                                  9                                        9   \n",
       "1                                  0                                        4   \n",
       "2                                  0                                        0   \n",
       "3                                  0                                        4   \n",
       "4                                  0                                        0   \n",
       "\n",
       "   light_conditions  weather_conditions  road_surface_conditions  \\\n",
       "0                 1                   9                        9   \n",
       "1                 1                   1                        1   \n",
       "2                 4                   1                        2   \n",
       "3                 4                   1                        1   \n",
       "4                 4                   1                        1   \n",
       "\n",
       "   special_conditions_at_site  carriageway_hazards  urban_or_rural_area  \n",
       "0                           0                    0                    1  \n",
       "1                           0                    0                    1  \n",
       "2                           0                    0                    1  \n",
       "3                           0                    0                    1  \n",
       "4                           0                    0                    1  \n",
       "\n",
       "[5 rows x 27 columns]"
      ]
     },
     "execution_count": 3,
     "metadata": {},
     "output_type": "execute_result"
    }
   ],
   "source": [
    "df=pd.read_csv(\"C:\\\\Users\\\\ranab\\\\Downloads\\\\Python final project\\\\accident-data.csv\")\n",
    "df.head(5)"
   ]
  },
  {
   "cell_type": "code",
   "execution_count": 4,
   "id": "c26e5a91",
   "metadata": {},
   "outputs": [],
   "source": [
    "conn = sqlite3.connect(\"RoadSafety (2).db\")\n",
    "cur = conn.cursor()"
   ]
  },
  {
   "cell_type": "markdown",
   "id": "22087286",
   "metadata": {},
   "source": [
    "# No of accidents w.r.t Road type"
   ]
  },
  {
   "cell_type": "code",
   "execution_count": 5,
   "id": "965b7c67",
   "metadata": {},
   "outputs": [],
   "source": [
    "sql_statement5='''select sum(NoOfCasualities), r.RoadTypeDesc from Accident a inner JOIN AccidentDetails ad on a.AccidentID = ad.AccidentID inner join RoadType r on ad.RoadTypeID = r.RoadTypeID group by r.RoadTypeID HAVING r.RoadTypeID NOT IN (-1,9)  order by sum(NoOfCasualities) desc; \n",
    "'''"
   ]
  },
  {
   "cell_type": "code",
   "execution_count": 6,
   "id": "84ffb06a",
   "metadata": {},
   "outputs": [],
   "source": [
    "cur.execute(sql_statement5)\n",
    "rows5=cur.fetchall()\n",
    "C = []\n",
    "L = []\n",
    "for i in rows5:\n",
    "    C.append(i[1])\n",
    "    L.append(i[0])"
   ]
  },
  {
   "cell_type": "code",
   "execution_count": 7,
   "id": "8bc9519b",
   "metadata": {},
   "outputs": [
    {
     "data": {
      "text/plain": [
       "Text(0, 0.5, 'Number of casualities')"
      ]
     },
     "execution_count": 7,
     "metadata": {},
     "output_type": "execute_result"
    },
    {
     "data": {
      "image/png": "[encoded data removed]",
      "text/plain": [
       "<Figure size 864x504 with 1 Axes>"
      ]
     },
     "metadata": {
      "needs_background": "light"
     },
     "output_type": "display_data"
    }
   ],
   "source": [
    "plt.figure(figsize=(12,7))\n",
    "plt.xticks(rotation=90)\n",
    "sns.barplot(x=C,y=L)\n",
    "plt.xlabel('Types of Road')\n",
    "plt.ylabel('Number of casualities')"
   ]
  },
  {
   "cell_type": "markdown",
   "id": "23d06478",
   "metadata": {},
   "source": [
    "# No of Casualities w.r.t Road surface"
   ]
  },
  {
   "cell_type": "code",
   "execution_count": 8,
   "id": "443754ac",
   "metadata": {},
   "outputs": [],
   "source": [
    "sql_statement6='''select sum(NoOfCasualities), r.RoadSurfaceDesc from Accident a inner JOIN AccidentDetails ad on a.AccidentID = ad.AccidentID inner join RoadSurfaceConditions r on ad.RoadSurfaceID = r.RoadSurfaceID group by r.RoadSurfaceID HAVING r.RoadSurfaceID NOT IN (-1,9)  order by sum(NoOfCasualities) desc;\n",
    "'''"
   ]
  },
  {
   "cell_type": "code",
   "execution_count": 10,
   "id": "c04a96cb",
   "metadata": {},
   "outputs": [
    {
     "name": "stdout",
     "output_type": "stream",
     "text": [
      "[(78536, 'Dry'), (34311, 'Wet or Damp'), (981, 'Frost or Ice'), (252, 'Flood over 3cm. deep'), (203, 'Snow')]\n"
     ]
    }
   ],
   "source": [
    "cur.execute(sql_statement6)\n",
    "rows6=cur.fetchall()\n",
    "print(rows6)\n",
    "C = []\n",
    "L = []\n",
    "for i in rows6:\n",
    "    C.append(i[1])\n",
    "    L.append(i[0])"
   ]
  },
  {
   "cell_type": "code",
   "execution_count": 152,
   "id": "2d343034",
   "metadata": {},
   "outputs": [
    {
     "data": {
      "text/plain": [
       "Text(0, 0.5, 'Number of casualities')"
      ]
     },
     "execution_count": 152,
     "metadata": {},
     "output_type": "execute_result"
    },
    {
     "data": {
      "image/png": "[encoded data removed]",
      "text/plain": [
       "<Figure size 864x504 with 1 Axes>"
      ]
     },
     "metadata": {
      "needs_background": "light"
     },
     "output_type": "display_data"
    }
   ],
   "source": [
    "plt.figure(figsize=(12,7))\n",
    "plt.xticks(rotation=90)\n",
    "sns.lineplot(x=C,y=L)\n",
    "plt.xlabel('Surface Type of Roads')\n",
    "plt.ylabel('Number of casualities')"
   ]
  },
  {
   "cell_type": "markdown",
   "id": "52e17792",
   "metadata": {},
   "source": [
    "# No of Casualities w.r.t Weather Conditions"
   ]
  },
  {
   "cell_type": "code",
   "execution_count": 153,
   "id": "43435715",
   "metadata": {},
   "outputs": [],
   "source": [
    "sql_statement7='''select sum(NoOfCasualities), w.WeatherConditionDesc from Accident a inner JOIN AccidentDetails ad on a.AccidentID = ad.AccidentID inner join WeatherConditions w on ad.WeatherConditionID = W.WeatherConditionID group by w.WeatherConditionID HAVING w.WeatherConditionID NOT IN (-1,8,9)  order by sum(NoOfCasualities) desc; \n",
    " '''"
   ]
  },
  {
   "cell_type": "code",
   "execution_count": 171,
   "id": "e832cbb6",
   "metadata": {},
   "outputs": [],
   "source": [
    "cur.execute(sql_statement7)\n",
    "rows7=cur.fetchall()\n",
    "C = []\n",
    "L = []\n",
    "for i in rows7:\n",
    "    C.append(i[1])\n",
    "    L.append(i[0])"
   ]
  },
  {
   "cell_type": "code",
   "execution_count": 172,
   "id": "adea3bca",
   "metadata": {},
   "outputs": [
    {
     "data": {
      "text/plain": [
       "Text(0, 0.5, 'Number of casualities')"
      ]
     },
     "execution_count": 172,
     "metadata": {},
     "output_type": "execute_result"
    },
    {
     "data": {
      "image/png": "[encoded data removed]",
      "text/plain": [
       "<Figure size 864x504 with 1 Axes>"
      ]
     },
     "metadata": {
      "needs_background": "light"
     },
     "output_type": "display_data"
    }
   ],
   "source": [
    "plt.figure(figsize=(12,7))\n",
    "plt.xticks(rotation=90)\n",
    "sns.barplot(x=C,y=L)\n",
    "plt.xlabel('Weather Conditions')\n",
    "plt.ylabel('Number of casualities')"
   ]
  },
  {
   "cell_type": "markdown",
   "id": "b781d106",
   "metadata": {},
   "source": [
    "# No of accidents w.r.t No of Vehicles"
   ]
  },
  {
   "cell_type": "code",
   "execution_count": 156,
   "id": "0b25cd17",
   "metadata": {},
   "outputs": [],
   "source": [
    "sql_statement8='''select a.NoOfVehicles, count(a.AccidentID) as NoOfAccidents from Accident a inner join  AccidentDetails ad on a.AccidentID = ad.AccidentID inner join Severity s on ad.SeverityID = s.SeverityID and s.SeverityDesc = 'Fatal' group by a.NoOfVehicles order by count(a.AccidentID) desc;\n",
    "'''"
   ]
  },
  {
   "cell_type": "code",
   "execution_count": 160,
   "id": "f3d4d652",
   "metadata": {},
   "outputs": [
    {
     "name": "stdout",
     "output_type": "stream",
     "text": [
      "[662, 525, 142, 41, 7, 7, 4, 3]\n",
      "[1, 2, 3, 4, 6, 5, 8, 7]\n"
     ]
    }
   ],
   "source": [
    "cur.execute(sql_statement8)\n",
    "rows8=cur.fetchall()\n",
    "C = []\n",
    "L = []\n",
    "for i in rows8:\n",
    "    C.append(i[1])\n",
    "    L.append(i[0])\n",
    "print(C)\n",
    "print(L)"
   ]
  },
  {
   "cell_type": "code",
   "execution_count": 158,
   "id": "1554699d",
   "metadata": {},
   "outputs": [
    {
     "data": {
      "text/plain": [
       "Text(0.5, 0, 'No. of Vehicles')"
      ]
     },
     "execution_count": 158,
     "metadata": {},
     "output_type": "execute_result"
    },
    {
     "data": {
      "image/png": "[encoded data removed]",
      "text/plain": [
       "<Figure size 864x504 with 1 Axes>"
      ]
     },
     "metadata": {
      "needs_background": "light"
     },
     "output_type": "display_data"
    }
   ],
   "source": [
    "plt.figure(figsize=(12,7))\n",
    "plt.xticks(rotation=90)\n",
    "sns.lineplot(x=L,y=C)\n",
    "plt.ylabel('No of accidents')\n",
    "plt.xlabel('No. of Vehicles')"
   ]
  },
  {
   "cell_type": "markdown",
   "id": "b245b0c0",
   "metadata": {},
   "source": [
    "# hours w.r.t No of accidents"
   ]
  },
  {
   "cell_type": "code",
   "execution_count": 168,
   "id": "6a5ab983",
   "metadata": {},
   "outputs": [],
   "source": [
    "sql_statement9='''SELECT strftime ('%H',TimeStamp) as Hour, COUNT(*) as NoOfAccidents FROM Accident GROUP BY strftime ('%H',TimeStamp) order by COUNT(*) DESC; \n",
    "'''"
   ]
  },
  {
   "cell_type": "code",
   "execution_count": 169,
   "id": "c8e4c6ec",
   "metadata": {},
   "outputs": [
    {
     "name": "stdout",
     "output_type": "stream",
     "text": [
      "['17', '16', '15', '18', '14', '13', '12', '08', '19', '11', '10', '09', '07', '20', '21', '22', '06', '23', '00', '01', '05', '02', '03', '04']\n",
      "[7813, 7381, 7361, 6618, 6245, 5741, 5395, 5267, 5048, 4812, 4173, 3917, 3736, 3715, 3106, 2555, 1830, 1796, 1188, 915, 855, 658, 566, 508]\n"
     ]
    }
   ],
   "source": [
    "cur.execute(sql_statement9)\n",
    "rows9=cur.fetchall()\n",
    "C = []\n",
    "L = []\n",
    "for i in rows9:\n",
    "    C.append(i[1])\n",
    "    L.append(i[0])\n",
    "print(L)\n",
    "print(C)"
   ]
  },
  {
   "cell_type": "code",
   "execution_count": 170,
   "id": "076e234e",
   "metadata": {},
   "outputs": [
    {
     "data": {
      "text/plain": [
       "Text(0, 0.5, 'No of accidents')"
      ]
     },
     "execution_count": 170,
     "metadata": {},
     "output_type": "execute_result"
    },
    {
     "data": {
      "image/png": "[encoded data removed]",
      "text/plain": [
       "<Figure size 864x504 with 1 Axes>"
      ]
     },
     "metadata": {
      "needs_background": "light"
     },
     "output_type": "display_data"
    }
   ],
   "source": [
    "plt.figure(figsize=(12,7))\n",
    "plt.xticks(rotation=90)\n",
    "sns.barplot(x=L,y=C)\n",
    "plt.xlabel('hours')\n",
    "plt.ylabel('No of accidents')"
   ]
  },
  {
   "cell_type": "markdown",
   "id": "6343ba86",
   "metadata": {},
   "source": [
    "# No of Casualities w.r.t Light Conditions"
   ]
  },
  {
   "cell_type": "code",
   "execution_count": 132,
   "id": "02c4fd34",
   "metadata": {},
   "outputs": [],
   "source": [
    "sql_statement10='''select sum(NoOfCasualities), l.LightConditionDesc from Accident a inner JOIN AccidentDetails ad on a.AccidentID = ad.AccidentID inner join LightConditions l on ad.LightConditionID = l.LightConditionID group by l.LightConditionID HAVING l.LightConditionID NOT IN (-1,7) order by sum(NoOfCasualities) desc;\n",
    "'''"
   ]
  },
  {
   "cell_type": "code",
   "execution_count": 133,
   "id": "e26d3950",
   "metadata": {},
   "outputs": [],
   "source": [
    "cur.execute(sql_statement10)\n",
    "rows9=cur.fetchall()\n",
    "C = []\n",
    "L = []\n",
    "for i in rows9:\n",
    "    C.append(i[1])\n",
    "    L.append(i[0])"
   ]
  },
  {
   "cell_type": "code",
   "execution_count": 134,
   "id": "9dffe85f",
   "metadata": {},
   "outputs": [
    {
     "data": {
      "text/plain": [
       "([<matplotlib.patches.Wedge at 0x1d477d88b20>,\n",
       "  <matplotlib.patches.Wedge at 0x1d477f30070>,\n",
       "  <matplotlib.patches.Wedge at 0x1d477d88460>,\n",
       "  <matplotlib.patches.Wedge at 0x1d477d82670>],\n",
       " [Text(-0.6918797936973913, 0.8551621782289343, 'Daylight'),\n",
       "  Text(0.49137628447141535, -0.9841490471768323, 'Darkness - lights lit'),\n",
       "  Text(1.068316308796819, -0.26210735273688895, 'Darkness - no lighting'),\n",
       "  Text(1.0996980570056294, -0.025771756207975793, 'Darkness - lights unlit')])"
      ]
     },
     "execution_count": 134,
     "metadata": {},
     "output_type": "execute_result"
    },
    {
     "data": {
      "image/png": "[encoded data removed]",
      "text/plain": [
       "<Figure size 864x504 with 1 Axes>"
      ]
     },
     "metadata": {},
     "output_type": "display_data"
    }
   ],
   "source": [
    "plt.figure(figsize=(12,7))\n",
    "plt.xticks(rotation=90)\n",
    "plt.pie(x=L,labels=C)\n",
    "#plt.xlabel('No of accidents')\n",
    "#plt.label('Number of hours')"
   ]
  },
  {
   "cell_type": "markdown",
   "id": "99f7ebae",
   "metadata": {},
   "source": [
    "# No of accidents w.r.t the days of weeks"
   ]
  },
  {
   "cell_type": "code",
   "execution_count": 135,
   "id": "f3e68e1a",
   "metadata": {},
   "outputs": [],
   "source": [
    "sql_statement11='''SELECT CASE DayOfWeek when '2' THEN 'Monday' when '3' THEN 'Tuesday' when '4' THEN 'Wednesday' when '5' THEN 'Thursday' when '6' THEN 'Friday' when '7' THEN 'Saturday' when '1' THEN 'Sunday' END as DayOfWeek, COUNT(*) as NoOfAccidents FROM Accident GROUP BY DayOfWeek order by COUNT(*) DESC;  \n",
    "'''"
   ]
  },
  {
   "cell_type": "code",
   "execution_count": 136,
   "id": "7bdd02cd",
   "metadata": {},
   "outputs": [],
   "source": [
    "cur.execute(sql_statement11)\n",
    "rows10=cur.fetchall()\n",
    "C = []\n",
    "L = []\n",
    "for i in rows10:\n",
    "    C.append(i[1])\n",
    "    L.append(i[0])"
   ]
  },
  {
   "cell_type": "code",
   "execution_count": 137,
   "id": "5571176f",
   "metadata": {},
   "outputs": [
    {
     "data": {
      "text/plain": [
       "Text(0, 0.5, 'No. of Accidents')"
      ]
     },
     "execution_count": 137,
     "metadata": {},
     "output_type": "execute_result"
    },
    {
     "data": {
      "image/png": "[encoded data removed]",
      "text/plain": [
       "<Figure size 864x504 with 1 Axes>"
      ]
     },
     "metadata": {
      "needs_background": "light"
     },
     "output_type": "display_data"
    }
   ],
   "source": [
    "plt.figure(figsize=(12,7))\n",
    "plt.xticks(rotation=90)\n",
    "sns.barplot(x=L,y=C)\n",
    "plt.xlabel('Days of week')\n",
    "plt.ylabel('No. of Accidents')"
   ]
  },
  {
   "cell_type": "markdown",
   "id": "2abc4725",
   "metadata": {},
   "source": [
    "# No of Accidents w.r.t Location"
   ]
  },
  {
   "cell_type": "code",
   "execution_count": 138,
   "id": "3f75535f",
   "metadata": {},
   "outputs": [],
   "source": [
    "sql_statement12='''select count(*) as AccidentCount, CASE UrbanOrRural when '1' THEN 'Urban' ELSE 'Rural' END as UrbanOrRural from AccidentDetails where UrbanOrRural != 3 group by UrbanOrRural order by COUNT(*) DESC;'''"
   ]
  },
  {
   "cell_type": "code",
   "execution_count": 139,
   "id": "a0d57653",
   "metadata": {},
   "outputs": [],
   "source": [
    "cur.execute(sql_statement12)\n",
    "rows11=cur.fetchall()\n",
    "C = []\n",
    "L = []\n",
    "for i in rows11:\n",
    "    C.append(i[1])\n",
    "    L.append(i[0])"
   ]
  },
  {
   "cell_type": "code",
   "execution_count": 140,
   "id": "fb23c6ad",
   "metadata": {},
   "outputs": [
    {
     "data": {
      "text/plain": [
       "([<matplotlib.patches.Wedge at 0x1d47800d5e0>,\n",
       "  <matplotlib.patches.Wedge at 0x1d47800db80>],\n",
       " [Text(-0.5807830926623813, 0.9341793185879893, 'Urban'),\n",
       "  Text(0.5807830926623812, -0.9341793185879894, 'Rural')])"
      ]
     },
     "execution_count": 140,
     "metadata": {},
     "output_type": "execute_result"
    },
    {
     "data": {
      "image/png": "[encoded data removed]",
      "text/plain": [
       "<Figure size 864x504 with 1 Axes>"
      ]
     },
     "metadata": {},
     "output_type": "display_data"
    }
   ],
   "source": [
    "plt.figure(figsize=(12,7))\n",
    "plt.xticks(rotation=90)\n",
    "plt.pie(x=L,labels=C)"
   ]
  }
 ],
 "metadata": {
  "kernelspec": {
   "display_name": "Python 3 (ipykernel)",
   "language": "python",
   "name": "python3"
  },
  "language_info": {
   "codemirror_mode": {
    "name": "ipython",
    "version": 3
   },
   "file_extension": ".py",
   "mimetype": "text/x-python",
   "name": "python",
   "nbconvert_exporter": "python",
   "pygments_lexer": "ipython3",
   "version": "3.9.7"
  }
 },
 "nbformat": 4,
 "nbformat_minor": 5
}
